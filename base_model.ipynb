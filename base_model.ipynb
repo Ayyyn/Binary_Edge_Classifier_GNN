{
 "cells": [
  {
   "cell_type": "code",
   "execution_count": 13,
   "metadata": {},
   "outputs": [],
   "source": [
    "from data import dataset"
   ]
  },
  {
   "cell_type": "markdown",
   "metadata": {},
   "source": [
    "##### Split data and batch it in loaders"
   ]
  },
  {
   "cell_type": "code",
   "execution_count": 14,
   "metadata": {},
   "outputs": [],
   "source": [
    "from sklearn.model_selection import train_test_split\n",
    "from torch_geometric.loader import DataLoader\n",
    "\n",
    "train_data, test_data = train_test_split(dataset, test_size=0.2, random_state=42)\n",
    "train_data, val_data = train_test_split(train_data, test_size=0.1, random_state=42)\n",
    "\n",
    "train_loader = DataLoader(train_data, batch_size=32, shuffle=True)\n",
    "val_loader = DataLoader(val_data, batch_size=32, shuffle=False)\n",
    "test_loader = DataLoader(test_data, batch_size=32, shuffle=False)"
   ]
  },
  {
   "cell_type": "markdown",
   "metadata": {},
   "source": [
    "### Model Creation"
   ]
  },
  {
   "cell_type": "code",
   "execution_count": 15,
   "metadata": {},
   "outputs": [],
   "source": [
    "import torch\n",
    "import torch.nn.functional as F\n",
    "from torch_geometric.nn import GCNConv\n",
    "\n",
    "class GCN(torch.nn.Module):\n",
    "    def __init__(self, input_dim, hidden_dim, output_dim):\n",
    "        super(GCN, self).__init__()\n",
    "        self.conv1 = GCNConv(input_dim, hidden_dim)\n",
    "        self.conv2 = GCNConv(hidden_dim, output_dim)\n",
    "\n",
    "    def forward(self, edge_attr, edge_index):\n",
    "        x=self.conv1(edge_attr, edge_index)\n",
    "        x = F.relu(x)\n",
    "        x = self.conv2(x, edge_index)\n",
    "        x = torch.sigmoid(x)\n",
    "        return x\n",
    "\n",
    "model = GCN(input_dim=4, hidden_dim=16, output_dim=1)\n"
   ]
  },
  {
   "cell_type": "code",
   "execution_count": 19,
   "metadata": {},
   "outputs": [],
   "source": [
    "import torch.optim as optim\n",
    "import torch.nn.functional as F\n",
    "\n",
    "optimizer = optim.Adam(model.parameters(), lr=0.01)\n",
    "\n",
    "criterion = F.binary_cross_entropy_with_logits\n",
    "num_epochs=5\n",
    "for epoch in range(num_epochs):\n",
    "    model.train()\n",
    "    for data in train_loader:\n",
    "\n",
    "        optimizer.zero_grad()\n",
    "\n",
    "        x, edge_index, edge_attr,y = data.x, data.edge_index, data.edge_attr,data.y\n",
    "\n",
    "        logits = model(edge_attr,edge_index)\n",
    "        logits = logits.view(-1, 1)\n",
    "        logits = torch.sigmoid(logits).view(-1)\n",
    "        loss = criterion(logits, y.view(-1))\n",
    "\n",
    "        loss.backward()\n",
    "\n",
    "        optimizer.step()\n",
    "\n",
    "    model.eval()\n",
    "    with torch.no_grad():\n",
    "        val_loss = 0.0\n",
    "        for data in val_loader:\n",
    "            x, edge_index, edge_attr = data.x, data.edge_index, data.edge_attr\n",
    "            y = data.y.float()\n",
    "            logits = model(edge_attr,edge_index)\n",
    "            val_loss += criterion(logits.view(-1), y).item()\n",
    "        val_loss /= len(val_loader)\n",
    "\n",
    "    print(f\"Epoch {epoch}: train_loss = {loss.item()}, val_loss = {val_loss}\")\n"
   ]
  },
  {
   "cell_type": "code",
   "execution_count": 18,
   "metadata": {},
   "outputs": [
    {
     "name": "stdout",
     "output_type": "stream",
     "text": [
      "Test set results: Average loss: 0.6931, Accuracy: 6456474/7847702 (82.27%)\n"
     ]
    }
   ],
   "source": [
    "test_loss,correct,total=0,0,0\n",
    "for batch in test_loader:\n",
    " \n",
    "    x, edge_index, edge_attr, y = batch.x, batch.edge_index, batch.edge_attr, batch.y\n",
    "    \n",
    "    with torch.no_grad():\n",
    "        logits = model(edge_attr,edge_index)\n",
    "    \n",
    "    loss = criterion(logits.view(-1), y)\n",
    "    test_loss += loss.item() * y.size(0)\n",
    "    \n",
    "    _, predicted = logits.max(dim=1)\n",
    "    correct += predicted.eq(y).sum().item()\n",
    "    \n",
    "    total += y.size(0)\n",
    "\n",
    "test_loss /= total\n",
    "test_acc = 100. * correct / total\n",
    "\n",
    "print('Test set results: Average loss: {:.4f}, Accuracy: {}/{} ({:.2f}%)'.format(\n",
    "    test_loss, correct, total, test_acc))"
   ]
  }
 ],
 "metadata": {
  "kernelspec": {
   "display_name": "Python 3.10.5 64-bit",
   "language": "python",
   "name": "python3"
  },
  "language_info": {
   "codemirror_mode": {
    "name": "ipython",
    "version": 3
   },
   "file_extension": ".py",
   "mimetype": "text/x-python",
   "name": "python",
   "nbconvert_exporter": "python",
   "pygments_lexer": "ipython3",
   "version": "3.10.5"
  },
  "orig_nbformat": 4,
  "vscode": {
   "interpreter": {
    "hash": "213524bb45a1aeaf737b1d8c77d7b8db5d425938d9dffc5f4bc6fe6dd3324700"
   }
  }
 },
 "nbformat": 4,
 "nbformat_minor": 2
}
